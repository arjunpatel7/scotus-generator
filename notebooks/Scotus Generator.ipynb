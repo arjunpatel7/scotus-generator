{
 "cells": [
  {
   "cell_type": "code",
   "execution_count": 2,
   "metadata": {},
   "outputs": [],
   "source": [
    "import pandas as pd\n",
    "# https://www.tensorflow.org/text/tutorials/text_generation\n",
    "scotus_df = pd.read_csv(\"all_opinions.csv\")"
   ]
  },
  {
   "cell_type": "code",
   "execution_count": 7,
   "metadata": {},
   "outputs": [
    {
     "data": {
      "text/html": [
       "<div>\n",
       "<style scoped>\n",
       "    .dataframe tbody tr th:only-of-type {\n",
       "        vertical-align: middle;\n",
       "    }\n",
       "\n",
       "    .dataframe tbody tr th {\n",
       "        vertical-align: top;\n",
       "    }\n",
       "\n",
       "    .dataframe thead th {\n",
       "        text-align: right;\n",
       "    }\n",
       "</style>\n",
       "<table border=\"1\" class=\"dataframe\">\n",
       "  <thead>\n",
       "    <tr style=\"text-align: right;\">\n",
       "      <th></th>\n",
       "      <th>author_name</th>\n",
       "      <th>category</th>\n",
       "      <th>per_curiam</th>\n",
       "      <th>case_name</th>\n",
       "      <th>date_filed</th>\n",
       "      <th>federal_cite_one</th>\n",
       "      <th>absolute_url</th>\n",
       "      <th>cluster</th>\n",
       "      <th>year_filed</th>\n",
       "      <th>scdb_id</th>\n",
       "      <th>scdb_decision_direction</th>\n",
       "      <th>scdb_votes_majority</th>\n",
       "      <th>scdb_votes_minority</th>\n",
       "      <th>text</th>\n",
       "    </tr>\n",
       "  </thead>\n",
       "  <tbody>\n",
       "    <tr>\n",
       "      <th>0</th>\n",
       "      <td>Justice Roberts</td>\n",
       "      <td>majority</td>\n",
       "      <td>False</td>\n",
       "      <td>McCutcheon v. Federal Election Comm'n</td>\n",
       "      <td>2014-04-02</td>\n",
       "      <td>NaN</td>\n",
       "      <td>https://www.courtlistener.com/opinion/2659301/...</td>\n",
       "      <td>https://www.courtlistener.com/api/rest/v3/clus...</td>\n",
       "      <td>2014</td>\n",
       "      <td>2013-033</td>\n",
       "      <td>1.0</td>\n",
       "      <td>5.0</td>\n",
       "      <td>4.0</td>\n",
       "      <td>There is no right more basic in our democracy ...</td>\n",
       "    </tr>\n",
       "    <tr>\n",
       "      <th>1</th>\n",
       "      <td>Justice Thomas</td>\n",
       "      <td>concurring</td>\n",
       "      <td>False</td>\n",
       "      <td>McCutcheon v. Federal Election Comm'n</td>\n",
       "      <td>2014-04-02</td>\n",
       "      <td>NaN</td>\n",
       "      <td>https://www.courtlistener.com/opinion/2659301/...</td>\n",
       "      <td>https://www.courtlistener.com/api/rest/v3/clus...</td>\n",
       "      <td>2014</td>\n",
       "      <td>2013-033</td>\n",
       "      <td>1.0</td>\n",
       "      <td>5.0</td>\n",
       "      <td>4.0</td>\n",
       "      <td>I adhere to the view that this Court’s decisio...</td>\n",
       "    </tr>\n",
       "    <tr>\n",
       "      <th>2</th>\n",
       "      <td>Justice Breyer</td>\n",
       "      <td>dissenting</td>\n",
       "      <td>False</td>\n",
       "      <td>McCutcheon v. Federal Election Comm'n</td>\n",
       "      <td>2014-04-02</td>\n",
       "      <td>NaN</td>\n",
       "      <td>https://www.courtlistener.com/opinion/2659301/...</td>\n",
       "      <td>https://www.courtlistener.com/api/rest/v3/clus...</td>\n",
       "      <td>2014</td>\n",
       "      <td>2013-033</td>\n",
       "      <td>1.0</td>\n",
       "      <td>5.0</td>\n",
       "      <td>4.0</td>\n",
       "      <td>Nearly 40 years ago in Buckley v. Valeo, 424 U...</td>\n",
       "    </tr>\n",
       "    <tr>\n",
       "      <th>3</th>\n",
       "      <td>Justice Taney</td>\n",
       "      <td>majority</td>\n",
       "      <td>False</td>\n",
       "      <td>Ex Parte Crenshaw</td>\n",
       "      <td>1841-02-18</td>\n",
       "      <td>40 U.S. 119</td>\n",
       "      <td>https://www.courtlistener.com/opinion/86166/ex...</td>\n",
       "      <td>https://www.courtlistener.com/api/rest/v3/clus...</td>\n",
       "      <td>1841</td>\n",
       "      <td>1841-005</td>\n",
       "      <td>2.0</td>\n",
       "      <td>9.0</td>\n",
       "      <td>0.0</td>\n",
       "      <td>This case was brought here by an appeal from t...</td>\n",
       "    </tr>\n",
       "    <tr>\n",
       "      <th>4</th>\n",
       "      <td>Justice Pitney</td>\n",
       "      <td>majority</td>\n",
       "      <td>False</td>\n",
       "      <td>Richards v. Washington Terminal Co.</td>\n",
       "      <td>1914-05-04</td>\n",
       "      <td>233 U.S. 546</td>\n",
       "      <td>https://www.courtlistener.com/opinion/98178/ri...</td>\n",
       "      <td>https://www.courtlistener.com/api/rest/v3/clus...</td>\n",
       "      <td>1914</td>\n",
       "      <td>1913-149</td>\n",
       "      <td>1.0</td>\n",
       "      <td>8.0</td>\n",
       "      <td>1.0</td>\n",
       "      <td>Plaintiff in error, who was plaintiff below, c...</td>\n",
       "    </tr>\n",
       "  </tbody>\n",
       "</table>\n",
       "</div>"
      ],
      "text/plain": [
       "       author_name    category  per_curiam  \\\n",
       "0  Justice Roberts    majority       False   \n",
       "1   Justice Thomas  concurring       False   \n",
       "2   Justice Breyer  dissenting       False   \n",
       "3    Justice Taney    majority       False   \n",
       "4   Justice Pitney    majority       False   \n",
       "\n",
       "                               case_name  date_filed federal_cite_one  \\\n",
       "0  McCutcheon v. Federal Election Comm'n  2014-04-02              NaN   \n",
       "1  McCutcheon v. Federal Election Comm'n  2014-04-02              NaN   \n",
       "2  McCutcheon v. Federal Election Comm'n  2014-04-02              NaN   \n",
       "3                      Ex Parte Crenshaw  1841-02-18      40 U.S. 119   \n",
       "4    Richards v. Washington Terminal Co.  1914-05-04     233 U.S. 546   \n",
       "\n",
       "                                        absolute_url  \\\n",
       "0  https://www.courtlistener.com/opinion/2659301/...   \n",
       "1  https://www.courtlistener.com/opinion/2659301/...   \n",
       "2  https://www.courtlistener.com/opinion/2659301/...   \n",
       "3  https://www.courtlistener.com/opinion/86166/ex...   \n",
       "4  https://www.courtlistener.com/opinion/98178/ri...   \n",
       "\n",
       "                                             cluster  year_filed   scdb_id  \\\n",
       "0  https://www.courtlistener.com/api/rest/v3/clus...        2014  2013-033   \n",
       "1  https://www.courtlistener.com/api/rest/v3/clus...        2014  2013-033   \n",
       "2  https://www.courtlistener.com/api/rest/v3/clus...        2014  2013-033   \n",
       "3  https://www.courtlistener.com/api/rest/v3/clus...        1841  1841-005   \n",
       "4  https://www.courtlistener.com/api/rest/v3/clus...        1914  1913-149   \n",
       "\n",
       "   scdb_decision_direction  scdb_votes_majority  scdb_votes_minority  \\\n",
       "0                      1.0                  5.0                  4.0   \n",
       "1                      1.0                  5.0                  4.0   \n",
       "2                      1.0                  5.0                  4.0   \n",
       "3                      2.0                  9.0                  0.0   \n",
       "4                      1.0                  8.0                  1.0   \n",
       "\n",
       "                                                text  \n",
       "0  There is no right more basic in our democracy ...  \n",
       "1  I adhere to the view that this Court’s decisio...  \n",
       "2  Nearly 40 years ago in Buckley v. Valeo, 424 U...  \n",
       "3  This case was brought here by an appeal from t...  \n",
       "4  Plaintiff in error, who was plaintiff below, c...  "
      ]
     },
     "execution_count": 7,
     "metadata": {},
     "output_type": "execute_result"
    }
   ],
   "source": [
    "scotus_df.head()"
   ]
  },
  {
   "cell_type": "code",
   "execution_count": 10,
   "metadata": {},
   "outputs": [
    {
     "data": {
      "text/plain": [
       "'There is no right more basic in our democracy than the\\nright to participate in electing our politica'"
      ]
     },
     "execution_count": 10,
     "metadata": {},
     "output_type": "execute_result"
    }
   ],
   "source": [
    "scotus_df.head()[\"text\"][0][0:100]"
   ]
  },
  {
   "cell_type": "code",
   "execution_count": 11,
   "metadata": {},
   "outputs": [],
   "source": [
    "import tensorflow as tf\n",
    "\n",
    "import numpy as np\n",
    "import os\n",
    "import time"
   ]
  },
  {
   "cell_type": "code",
   "execution_count": 13,
   "metadata": {},
   "outputs": [],
   "source": [
    "text = \" \".join(scotus_df[\"text\"][0:30].tolist()).replace(\"\\n\", \" \\n \")\n",
    "\n",
    "\n",
    "#text cleaning function, replace new lines with spaces, replace spaces with "
   ]
  },
  {
   "cell_type": "code",
   "execution_count": 15,
   "metadata": {},
   "outputs": [
    {
     "name": "stdout",
     "output_type": "stream",
     "text": [
      "There is no right more basic in our democracy than the \n",
      " right to participate in electing our political leaders. Citi- \n",
      " zens can exercise that right in a variety of ways: They can \n",
      " run for office themselves, vote, urge others to vote for a \n",
      " particular candidate, volunteer to work on a campaign, \n",
      " and contribute to a candidate’s campaign. This case is \n",
      " about the last of those options. \n",
      "    The right to participate in democracy through political \n",
      " contributions is protected by the First Amendment, but \n",
      " that right is not absolute. Our cases have held that Con- \n",
      " gress may regulate campaign contributions to protect \n",
      " against corruption or the appearance of corruption. See, \n",
      " e.g., Buckley v. Valeo, 424 U.S. 1, 26–27 (1976) (per curiam). \n",
      " At the same time, we have made clear that Congress \n",
      " may not regulate contributions simply to reduce the \n",
      " amount of money in politics, or to restrict the political \n",
      " participation of some in order to enhance the relative \n",
      " influence of others. See, e.g., Arizona Free Enterprise \n",
      " 2       MCCUTCHEON v. FEDERAL ELECTION COMM’N \n",
      "  \n",
      "                    Opinion of ROBERTS, C. J. \n",
      "  \n",
      " Club’s Freedom Club PAC v. Bennett, 564 U. S. ___, ___ \n",
      " (2011) (slip op., at 24–25). \n",
      "     Many people might find those latter objectives attrac- \n",
      " tive: They would be delighted to see fewer television com- \n",
      " mercials touting a candidate’s accomplishments or dispar- \n",
      " aging an opponent’s character. Money in politics may at \n",
      " times seem repugnant to some, but so too does much of \n",
      " what the First Amendment vigorously protects. If the \n",
      " First Amendment protects flag burning, funeral protests, \n",
      " and Nazi parades—despite the profound offense such \n",
      " spectacles cause—it surely protects political campaign \n",
      " speech despite popular opposition. See Texas v. Johnson, \n",
      " 491 U.S. 397 (1989); Snyder v. Phelps, 562 U. S. ___ \n",
      " (2011); National Socialist Party of America v. Skokie, 432 \n",
      " U.S. 43 (1977) (per curiam). Indeed, as we have empha- \n",
      " sized, the First Amendment “has its fullest and most \n",
      " urgent application precisely to the conduct of campaigns \n",
      " for political office.” Monitor Patriot Co. v. Roy, 401 U.S. \n",
      " 265, 272 (1971). \n",
      "     In a series of cases over the past 40 years, we have \n",
      " spelled out how to draw the constitutional line between \n",
      " the permissible goal of avoiding corruption in the political \n",
      " process and the impermissible desire simply to limit polit- \n",
      " ical speech. We have said that government regulation \n",
      " may not target the general gratitude a candidate may feel \n",
      " toward those who support him or his allies, or the political \n",
      " access such support may afford. “Ingratiation and access \n",
      " . . . are not corruption.” Citizens United v. Federal Elec- \n",
      " tion Comm’n, 558 U.S. 310, 360 (2010). They embody a \n",
      " central feature of democracy—that constituents support \n",
      " candidates who share their beliefs and interests, and \n",
      " candidates who are elected can be expected to be respon- \n",
      " sive to those concerns. \n",
      "     Any regulation must instead target what we have called \n",
      " “quid pro quo” corruption or its appearance. See id., at \n",
      " 359. That Latin phrase captures the notion of a direct \n",
      "                  Cite as: 572 U. S. ____ (2014)           3 \n",
      "  \n",
      "                    Opinion of ROBERTS, C. J. \n",
      "  \n",
      " exchange of an official act for money. See McCormick v. \n",
      " United States, 500 U.S. 257, 266 (1991). “The hallmark of \n",
      " corruption is the financial quid pro quo: dollars for po- \n",
      " litical favors.” Federal Election Comm’n v. National Con- \n",
      " servative Political Action Comm., 470 U.S. 480, 497 \n",
      " (1985). Campaign finance restrictions that pursue other \n",
      " objectives, we have explained, impermissibly inject the \n",
      " Government “into the debate over who should govern.” \n",
      " Bennett, supra, at ___ (slip op., at 25). And those who \n",
      " govern should be the last people to help decide who should \n",
      " govern. \n",
      "    The statute at issue in this case imposes two types of \n",
      " limits on campaign contributions. The first, called base \n",
      " limits, restricts how much money a \n"
     ]
    }
   ],
   "source": [
    "print(text[0:4000])"
   ]
  },
  {
   "cell_type": "code",
   "execution_count": 16,
   "metadata": {},
   "outputs": [],
   "source": [
    "vocab = sorted(set(text))"
   ]
  },
  {
   "cell_type": "code",
   "execution_count": 17,
   "metadata": {},
   "outputs": [
    {
     "data": {
      "text/plain": [
       "94"
      ]
     },
     "execution_count": 17,
     "metadata": {},
     "output_type": "execute_result"
    }
   ],
   "source": [
    "len(vocab)"
   ]
  },
  {
   "cell_type": "code",
   "execution_count": 18,
   "metadata": {},
   "outputs": [],
   "source": [
    "ids_from_chars = tf.keras.layers.experimental.preprocessing.StringLookup(\n",
    "    vocabulary=list(vocab), mask_token=None)\n",
    "\n",
    "chars_from_ids = tf.keras.layers.experimental.preprocessing.StringLookup(\n",
    "    vocabulary=ids_from_chars.get_vocabulary(), invert=True, mask_token=None)\n"
   ]
  },
  {
   "cell_type": "code",
   "execution_count": 19,
   "metadata": {},
   "outputs": [],
   "source": [
    "def text_from_ids(ids):\n",
    "    return tf.strings.reduce_join(chars_from_ids(ids), axis=-1)"
   ]
  },
  {
   "cell_type": "code",
   "execution_count": 20,
   "metadata": {},
   "outputs": [
    {
     "data": {
      "text/plain": [
       "<PrefetchDataset shapes: ((64, 200), (64, 200)), types: (tf.int64, tf.int64)>"
      ]
     },
     "execution_count": 20,
     "metadata": {},
     "output_type": "execute_result"
    }
   ],
   "source": [
    "seq_length = 200\n",
    "\n",
    "all_ids = ids_from_chars(tf.strings.unicode_split(text, 'UTF-8'))\n",
    "ids_dataset = tf.data.Dataset.from_tensor_slices(all_ids)\n",
    "\n",
    "sequences = ids_dataset.batch(seq_length+1, drop_remainder=True)\n",
    "\n",
    "def split_input_target(sequence):\n",
    "    input_text = sequence[:-1]\n",
    "    target_text = sequence[1:]\n",
    "    return input_text, target_text\n",
    "\n",
    "dataset = sequences.map(split_input_target)\n",
    "\n",
    "\n",
    "# Batch size\n",
    "BATCH_SIZE = 64\n",
    "\n",
    "# Buffer size to shuffle the dataset\n",
    "# (TF data is designed to work with possibly infinite sequences,\n",
    "# so it doesn't attempt to shuffle the entire sequence in memory. Instead,\n",
    "# it maintains a buffer in which it shuffles elements).\n",
    "BUFFER_SIZE = 10000\n",
    "\n",
    "dataset = (\n",
    "    dataset\n",
    "    .shuffle(BUFFER_SIZE)\n",
    "    .batch(BATCH_SIZE, drop_remainder=True)\n",
    "    .prefetch(tf.data.experimental.AUTOTUNE))\n",
    "\n",
    "dataset"
   ]
  },
  {
   "cell_type": "code",
   "execution_count": 23,
   "metadata": {},
   "outputs": [],
   "source": [
    "# Length of the vocabulary in chars\n",
    "vocab_size = len(vocab)\n",
    "\n",
    "# The embedding dimension\n",
    "embedding_dim = 256\n",
    "\n",
    "# Number of RNN units\n",
    "rnn_units = 1024\n",
    "\n",
    "\n",
    "\n",
    "class MyModel(tf.keras.Model):\n",
    "    def __init__(self, vocab_size, embedding_dim, rnn_units):\n",
    "        super().__init__(self)\n",
    "        self.embedding = tf.keras.layers.Embedding(vocab_size, embedding_dim)\n",
    "        self.gru = tf.keras.layers.GRU(rnn_units,\n",
    "                                   return_sequences=True,\n",
    "                                   return_state=True)\n",
    "        self.dense = tf.keras.layers.Dense(vocab_size)\n",
    "\n",
    "    def call(self, inputs, states=None, return_state=False, training=False):\n",
    "        x = inputs\n",
    "        x = self.embedding(x, training=training)\n",
    "        if states is None:\n",
    "            states = self.gru.get_initial_state(x)\n",
    "        x, states = self.gru(x, initial_state=states, training=training)\n",
    "        x = self.dense(x, training=training)\n",
    "\n",
    "        if return_state:\n",
    "             return x, states\n",
    "        else:\n",
    "             return x"
   ]
  },
  {
   "cell_type": "code",
   "execution_count": 24,
   "metadata": {},
   "outputs": [],
   "source": [
    "model = MyModel(\n",
    "    # Be sure the vocabulary size matches the `StringLookup` layers.\n",
    "    vocab_size=len(ids_from_chars.get_vocabulary()),\n",
    "    embedding_dim=embedding_dim,\n",
    "    rnn_units=rnn_units)"
   ]
  },
  {
   "cell_type": "code",
   "execution_count": 25,
   "metadata": {},
   "outputs": [
    {
     "name": "stdout",
     "output_type": "stream",
     "text": [
      "Epoch 1/5\n",
      "43/43 [==============================] - 96s 2s/step - loss: 4.1572\n",
      "Epoch 2/5\n",
      "43/43 [==============================] - 95s 2s/step - loss: 2.7610\n",
      "Epoch 3/5\n",
      "43/43 [==============================] - 96s 2s/step - loss: 2.4196\n",
      "Epoch 4/5\n",
      "43/43 [==============================] - 91s 2s/step - loss: 2.2381\n",
      "Epoch 5/5\n",
      "43/43 [==============================] - 94s 2s/step - loss: 2.0663\n"
     ]
    }
   ],
   "source": [
    "loss = tf.losses.SparseCategoricalCrossentropy(from_logits=True)\n",
    "model.compile(optimizer='adam', loss=loss)\n",
    "# Directory where the checkpoints will be saved\n",
    "checkpoint_dir = './training_checkpoints'\n",
    "# Name of the checkpoint files\n",
    "checkpoint_prefix = os.path.join(checkpoint_dir, \"ckpt_{epoch}\")\n",
    "\n",
    "checkpoint_callback = tf.keras.callbacks.ModelCheckpoint(\n",
    "    filepath=checkpoint_prefix,\n",
    "    save_weights_only=True)\n",
    "\n",
    "\n",
    "EPOCHS = 5\n",
    "\n",
    "history = model.fit(dataset, epochs=EPOCHS, callbacks=[checkpoint_callback])\n"
   ]
  },
  {
   "cell_type": "code",
   "execution_count": null,
   "metadata": {},
   "outputs": [],
   "source": [
    "\n"
   ]
  },
  {
   "cell_type": "code",
   "execution_count": 26,
   "metadata": {},
   "outputs": [],
   "source": [
    "class OneStep(tf.keras.Model):\n",
    "    def __init__(self, model, chars_from_ids, ids_from_chars, temperature=1.0):\n",
    "        super().__init__()\n",
    "        self.temperature = temperature\n",
    "        self.model = model\n",
    "        self.chars_from_ids = chars_from_ids\n",
    "        self.ids_from_chars = ids_from_chars\n",
    "\n",
    "        # Create a mask to prevent \"[UNK]\" from being generated.\n",
    "        skip_ids = self.ids_from_chars(['[UNK]'])[:, None]\n",
    "        sparse_mask = tf.SparseTensor(\n",
    "            # Put a -inf at each bad index.\n",
    "            values=[-float('inf')]*len(skip_ids),\n",
    "            indices=skip_ids,\n",
    "            # Match the shape to the vocabulary\n",
    "            dense_shape=[len(ids_from_chars.get_vocabulary())])\n",
    "        self.prediction_mask = tf.sparse.to_dense(sparse_mask)\n",
    "    \n",
    "    @tf.function\n",
    "    def generate_one_step(self, inputs, states=None):\n",
    "        # Convert strings to token IDs.\n",
    "        input_chars = tf.strings.unicode_split(inputs, 'UTF-8')\n",
    "        input_ids = self.ids_from_chars(input_chars).to_tensor()\n",
    "\n",
    "        # Run the model.\n",
    "        # predicted_logits.shape is [batch, char, next_char_logits]\n",
    "        predicted_logits, states = self.model(inputs=input_ids, states=states,\n",
    "                                              return_state=True)\n",
    "        # Only use the last prediction.\n",
    "        predicted_logits = predicted_logits[:, -1, :]\n",
    "        predicted_logits = predicted_logits/self.temperature\n",
    "        # Apply the prediction mask: prevent \"[UNK]\" from being generated.\n",
    "        predicted_logits = predicted_logits + self.prediction_mask\n",
    "\n",
    "        # Sample the output logits to generate token IDs.\n",
    "        predicted_ids = tf.random.categorical(predicted_logits, num_samples=1)\n",
    "        predicted_ids = tf.squeeze(predicted_ids, axis=-1)\n",
    "\n",
    "        # Convert from token ids to characters\n",
    "        predicted_chars = self.chars_from_ids(predicted_ids)\n",
    "\n",
    "        # Return the characters and model state.\n",
    "        return predicted_chars, states"
   ]
  },
  {
   "cell_type": "code",
   "execution_count": 27,
   "metadata": {},
   "outputs": [
    {
     "name": "stdout",
     "output_type": "stream",
     "text": [
      "Federal’ states and the atreecues may relical Applocicenord, Oncerone was ster usteby wiph mowhially of Sem Bumgs, bith def ave insorpe to lagdesterus, 5e. af. The \n",
      " a ganclivions bos in puclop at in Actumpedaba evabe \n",
      " Jekizection ldecays is prondisally memprect to noted, hate Sustawinge to murdinces forkl of \n",
      " PACnords of a Gor. reclian, sisull yorisue of ardingisal v. Lous carice of 191, condidg. kenils, and whitate no \n",
      " pronded dorrrinol or sexent of in preppofatie tho $110000100;(ygion, at the Frers, whot Rewcisicmal iless ar sowe lidit wor.”; 58. 321,  the nation hit coure in tha dacked anthise ta fion pare offer ovore \n",
      " Cares,, and prect iquall, \n",
      "  \n",
      " sered ald hopporeskeezer Comprims intothituclapine supronipe the Neve exporecournon toy immuct onjye- \n",
      " as s. a nol that woir to nompore priacor merdinglite ot \n",
      " iquution, 284 Undisinat's vios be un whes by \n",
      " difen- \n",
      " ining and. Reals, of hin frized sercidered. This 559 (215, the caldion, a goingre a figh not insting to tore a prome iscive \n",
      "\n",
      "________________________________________________________________________________\n",
      "\n",
      "Run time: 1.4024910926818848\n"
     ]
    }
   ],
   "source": [
    "one_step_model = OneStep(model, chars_from_ids, ids_from_chars)\n",
    "start = time.time()\n",
    "states = None\n",
    "next_char = tf.constant([\"Federal\"])\n",
    "result = [next_char]\n",
    "\n",
    "for n in range(1000):\n",
    "    next_char, states = one_step_model.generate_one_step(next_char, states=states)\n",
    "    result.append(next_char)\n",
    "\n",
    "result = tf.strings.join(result)\n",
    "end = time.time()\n",
    "print(result[0].numpy().decode('utf-8'), '\\n\\n' + '_'*80)\n",
    "print('\\nRun time:', end - start)"
   ]
  },
  {
   "cell_type": "code",
   "execution_count": null,
   "metadata": {},
   "outputs": [],
   "source": []
  },
  {
   "cell_type": "code",
   "execution_count": null,
   "metadata": {},
   "outputs": [],
   "source": []
  }
 ],
 "metadata": {
  "kernelspec": {
   "display_name": "Python 3",
   "language": "python",
   "name": "python3"
  },
  "language_info": {
   "codemirror_mode": {
    "name": "ipython",
    "version": 3
   },
   "file_extension": ".py",
   "mimetype": "text/x-python",
   "name": "python",
   "nbconvert_exporter": "python",
   "pygments_lexer": "ipython3",
   "version": "3.8.3"
  }
 },
 "nbformat": 4,
 "nbformat_minor": 4
}
